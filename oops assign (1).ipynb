{
 "cells": [
  {
   "cell_type": "code",
   "execution_count": null,
   "id": "2442b6fe",
   "metadata": {},
   "outputs": [],
   "source": [
    "#Question 1"
   ]
  },
  {
   "cell_type": "code",
   "execution_count": 20,
   "id": "4f03ba24",
   "metadata": {},
   "outputs": [],
   "source": [
    "class vehicle :\n",
    "    def __init__(self,vehicle_name,max_speed,average):\n",
    "        self.vehicle_name = vehicle_name\n",
    "        self.max_speed = max_speed\n",
    "        self.average = average"
   ]
  },
  {
   "cell_type": "code",
   "execution_count": 21,
   "id": "501e3575",
   "metadata": {},
   "outputs": [],
   "source": [
    "Hyundai = vehicle('Verna',170,12)"
   ]
  },
  {
   "cell_type": "code",
   "execution_count": 22,
   "id": "17d229b9",
   "metadata": {},
   "outputs": [
    {
     "data": {
      "text/plain": [
       "12"
      ]
     },
     "execution_count": 22,
     "metadata": {},
     "output_type": "execute_result"
    }
   ],
   "source": [
    "Hyundai.average"
   ]
  },
  {
   "cell_type": "code",
   "execution_count": 25,
   "id": "653d7be6",
   "metadata": {},
   "outputs": [
    {
     "data": {
      "text/plain": [
       "'Verna'"
      ]
     },
     "execution_count": 25,
     "metadata": {},
     "output_type": "execute_result"
    }
   ],
   "source": [
    "Hyundai.vehicle_name"
   ]
  },
  {
   "cell_type": "code",
   "execution_count": 26,
   "id": "379caf1c",
   "metadata": {},
   "outputs": [],
   "source": [
    "#Question 2"
   ]
  },
  {
   "cell_type": "code",
   "execution_count": 27,
   "id": "9f2dbefc",
   "metadata": {},
   "outputs": [],
   "source": [
    "class car(vehicle):\n",
    "    def seating_capacity(self,seating_capacity):\n",
    "        return f\"The {self.vehicle_name} has seating capacity of {seating_capacity} peoples.\""
   ]
  },
  {
   "cell_type": "code",
   "execution_count": 30,
   "id": "ba6c44d3",
   "metadata": {},
   "outputs": [],
   "source": [
    "Kia = car('Sonet',140,10)"
   ]
  },
  {
   "cell_type": "code",
   "execution_count": 32,
   "id": "004572da",
   "metadata": {},
   "outputs": [
    {
     "data": {
      "text/plain": [
       "'The Sonet has seating capacity of 5 peoples.'"
      ]
     },
     "execution_count": 32,
     "metadata": {},
     "output_type": "execute_result"
    }
   ],
   "source": [
    "Kia.seating_capacity(5)"
   ]
  },
  {
   "cell_type": "code",
   "execution_count": 33,
   "id": "2a0d98df",
   "metadata": {},
   "outputs": [],
   "source": [
    "#Question 3"
   ]
  },
  {
   "cell_type": "markdown",
   "id": "6c3a30ab",
   "metadata": {},
   "source": [
    "When a class is derived from more than one superclass is called multiple inheritance."
   ]
  },
  {
   "cell_type": "code",
   "execution_count": 34,
   "id": "01a2ec12",
   "metadata": {},
   "outputs": [],
   "source": [
    "class father:\n",
    "    def behaviour_father(self):\n",
    "        return(\"This is a behaviour of father\")"
   ]
  },
  {
   "cell_type": "code",
   "execution_count": 35,
   "id": "c610010a",
   "metadata": {},
   "outputs": [],
   "source": [
    "class mother:\n",
    "    def behaviour_mother(self):\n",
    "        return(\"This is a behaviour of mother\")"
   ]
  },
  {
   "cell_type": "code",
   "execution_count": 36,
   "id": "316bdf9b",
   "metadata": {},
   "outputs": [],
   "source": [
    "class child(father,mother):\n",
    "    pass"
   ]
  },
  {
   "cell_type": "code",
   "execution_count": 37,
   "id": "5aa68b79",
   "metadata": {},
   "outputs": [],
   "source": [
    "child_obj = child()"
   ]
  },
  {
   "cell_type": "code",
   "execution_count": 38,
   "id": "b914754d",
   "metadata": {},
   "outputs": [
    {
     "data": {
      "text/plain": [
       "'This is a behaviour of father'"
      ]
     },
     "execution_count": 38,
     "metadata": {},
     "output_type": "execute_result"
    }
   ],
   "source": [
    "child_obj.behaviour_father()"
   ]
  },
  {
   "cell_type": "code",
   "execution_count": 39,
   "id": "e53ceb2c",
   "metadata": {},
   "outputs": [
    {
     "data": {
      "text/plain": [
       "'This is a behaviour of mother'"
      ]
     },
     "execution_count": 39,
     "metadata": {},
     "output_type": "execute_result"
    }
   ],
   "source": [
    "child_obj.behaviour_mother()"
   ]
  },
  {
   "cell_type": "code",
   "execution_count": 40,
   "id": "1cef1c09",
   "metadata": {},
   "outputs": [],
   "source": [
    "#Question 4"
   ]
  },
  {
   "cell_type": "markdown",
   "id": "6efa6ac1",
   "metadata": {},
   "source": [
    "Getter - It is a method that allows you to access an attribute in a given class.\n",
    "Setter - It is a method that allows you to set or mutate the value of an attribute in a class."
   ]
  },
  {
   "cell_type": "code",
   "execution_count": 80,
   "id": "49e32f16",
   "metadata": {},
   "outputs": [],
   "source": [
    "class driving_student:\n",
    "    def __init__(self,age = 18):\n",
    "        self.age = age\n",
    "        \n",
    "    def get_age(self):\n",
    "        return self.age\n",
    "    \n",
    "    def set_age(self,x):\n",
    "        self.age = x"
   ]
  },
  {
   "cell_type": "code",
   "execution_count": 81,
   "id": "c402ad60",
   "metadata": {},
   "outputs": [],
   "source": [
    "Shahil = driving_student()"
   ]
  },
  {
   "cell_type": "code",
   "execution_count": 82,
   "id": "eceefcc6",
   "metadata": {},
   "outputs": [
    {
     "data": {
      "text/plain": [
       "18"
      ]
     },
     "execution_count": 82,
     "metadata": {},
     "output_type": "execute_result"
    }
   ],
   "source": [
    "Shahil.age"
   ]
  },
  {
   "cell_type": "code",
   "execution_count": 83,
   "id": "711e2418",
   "metadata": {},
   "outputs": [],
   "source": [
    "Shahil.set_age(23)"
   ]
  },
  {
   "cell_type": "code",
   "execution_count": 84,
   "id": "4a4eef23",
   "metadata": {},
   "outputs": [
    {
     "data": {
      "text/plain": [
       "23"
      ]
     },
     "execution_count": 84,
     "metadata": {},
     "output_type": "execute_result"
    }
   ],
   "source": [
    "Shahil.get_age()"
   ]
  },
  {
   "cell_type": "code",
   "execution_count": 85,
   "id": "f003242e",
   "metadata": {},
   "outputs": [],
   "source": [
    "#Question 5"
   ]
  },
  {
   "cell_type": "markdown",
   "id": "00d4693f",
   "metadata": {},
   "source": [
    "Overriding method allows a class to inherit behaviour from thier super  class and modify it as per requirements."
   ]
  },
  {
   "cell_type": "code",
   "execution_count": 93,
   "id": "f886ff52",
   "metadata": {},
   "outputs": [],
   "source": [
    "class parent:\n",
    "    def behaviour(self):\n",
    "        return ('this is parent class')"
   ]
  },
  {
   "cell_type": "code",
   "execution_count": 94,
   "id": "e2ffd424",
   "metadata": {},
   "outputs": [],
   "source": [
    "class child(parent):\n",
    "    def behaviour(self):\n",
    "        return ('this is child class')"
   ]
  },
  {
   "cell_type": "code",
   "execution_count": 95,
   "id": "b1fcfab3",
   "metadata": {},
   "outputs": [],
   "source": [
    "s = child()"
   ]
  },
  {
   "cell_type": "code",
   "execution_count": 96,
   "id": "96f47d17",
   "metadata": {},
   "outputs": [
    {
     "data": {
      "text/plain": [
       "'this is child class'"
      ]
     },
     "execution_count": 96,
     "metadata": {},
     "output_type": "execute_result"
    }
   ],
   "source": [
    "s.behaviour()"
   ]
  },
  {
   "cell_type": "code",
   "execution_count": null,
   "id": "78510856",
   "metadata": {},
   "outputs": [],
   "source": []
  },
  {
   "cell_type": "code",
   "execution_count": null,
   "id": "d49c2457",
   "metadata": {},
   "outputs": [],
   "source": []
  }
 ],
 "metadata": {
  "kernelspec": {
   "display_name": "Python 3 (ipykernel)",
   "language": "python",
   "name": "python3"
  },
  "language_info": {
   "codemirror_mode": {
    "name": "ipython",
    "version": 3
   },
   "file_extension": ".py",
   "mimetype": "text/x-python",
   "name": "python",
   "nbconvert_exporter": "python",
   "pygments_lexer": "ipython3",
   "version": "3.9.12"
  }
 },
 "nbformat": 4,
 "nbformat_minor": 5
}
